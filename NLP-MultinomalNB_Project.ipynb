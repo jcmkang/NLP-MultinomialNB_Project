{
 "cells": [
  {
   "cell_type": "markdown",
   "id": "ee090f3c",
   "metadata": {},
   "source": [
    "# Natural Language Processing using Multinomal Naive Bayes Algorithm\n",
    "<b><i> Text Classification on TripAdvisor's Online Hotel Reviews"
   ]
  },
  {
   "cell_type": "markdown",
   "id": "713a775c",
   "metadata": {},
   "source": [
    "### INTRODUCTION"
   ]
  },
  {
   "cell_type": "markdown",
   "id": "6e1cbbc4",
   "metadata": {},
   "source": [
    "**Description:** There are two parts to this project. Both parts of the project will use text classification algorithms to predict a desired result by training datasets and using machine learning algorithms. \n",
    " - Train a ML model to determine if a review of a hotel is positive or negative. The data used for training comes from <i>Trip Advisor's Online Hotel</i> Reviews. \n",
    " - The dataset consists of 25,000 hotel reviews and their ratings from 1, most negative, to 5, most positive, reviews. \n",
    "\n",
    "**Sources**:\n",
    "* <b>Part A:</b> Alam, M. H., Ryu, W.-J., Lee  -- ([source](https://zenodo.org/record/1219899#.Y9Y_N9JBwUE))"
   ]
  },
  {
   "cell_type": "markdown",
   "id": "e2ed0a68",
   "metadata": {},
   "source": [
    "#### IMPORTING LIBRARIES & DATASET"
   ]
  },
  {
   "cell_type": "code",
   "execution_count": 63,
   "id": "488f61c2",
   "metadata": {
    "scrolled": true
   },
   "outputs": [],
   "source": [
    "# import modules\n",
    "import numpy as np\n",
    "import pandas as pd\n",
    "import matplotlib.pyplot as plt\n",
    "%matplotlib inline\n",
    "import random\n",
    "from sklearn.model_selection import train_test_split\n",
    "from sklearn.naive_bayes import MultinomialNB\n",
    "from sklearn import metrics\n",
    "import nltk\n",
    "\n",
    "# modules for preprocessing: tokenizing, stemmer, stopwords\n",
    "from nltk.tokenize import RegexpTokenizer\n",
    "# separate text into words\n",
    "from nltk.tokenize import word_tokenize  \n",
    "# stopwords = an, am, the \n",
    "from nltk.corpus import stopwords\n",
    "# stem words to get only root. \n",
    "from nltk.stem import PorterStemmer\n",
    "\n",
    "# countVectorizer to change X dataset to vector of numbers\n",
    "from sklearn.feature_extraction.text import CountVectorizer"
   ]
  },
  {
   "cell_type": "markdown",
   "id": "de1c87b6",
   "metadata": {},
   "source": [
    "<b><u>The Dataset from Kaggle contains extra columns and is unsorted.<br> We will do a preliminary reading of the dataset and clean the dataset to be usable for training.</u></b>"
   ]
  },
  {
   "cell_type": "code",
   "execution_count": 64,
   "id": "77d366aa",
   "metadata": {},
   "outputs": [
    {
     "name": "stdout",
     "output_type": "stream",
     "text": [
      "\n",
      "Trip Advisor's Online Hotel Reviews:\n"
     ]
    },
    {
     "data": {
      "text/html": [
       "<div>\n",
       "<style scoped>\n",
       "    .dataframe tbody tr th:only-of-type {\n",
       "        vertical-align: middle;\n",
       "    }\n",
       "\n",
       "    .dataframe tbody tr th {\n",
       "        vertical-align: top;\n",
       "    }\n",
       "\n",
       "    .dataframe thead th {\n",
       "        text-align: right;\n",
       "    }\n",
       "</style>\n",
       "<table border=\"1\" class=\"dataframe\">\n",
       "  <thead>\n",
       "    <tr style=\"text-align: right;\">\n",
       "      <th></th>\n",
       "      <th>S.No.</th>\n",
       "      <th>Review</th>\n",
       "      <th>Rating</th>\n",
       "    </tr>\n",
       "  </thead>\n",
       "  <tbody>\n",
       "    <tr>\n",
       "      <th>0</th>\n",
       "      <td>1</td>\n",
       "      <td>nice hotel expensive parking got good deal sta...</td>\n",
       "      <td>4</td>\n",
       "    </tr>\n",
       "    <tr>\n",
       "      <th>1</th>\n",
       "      <td>2</td>\n",
       "      <td>ok nothing special charge diamond member hilto...</td>\n",
       "      <td>2</td>\n",
       "    </tr>\n",
       "    <tr>\n",
       "      <th>2</th>\n",
       "      <td>3</td>\n",
       "      <td>nice rooms not 4* experience hotel monaco seat...</td>\n",
       "      <td>3</td>\n",
       "    </tr>\n",
       "    <tr>\n",
       "      <th>3</th>\n",
       "      <td>4</td>\n",
       "      <td>unique \\tgreat stay \\twonderful time hotel mon...</td>\n",
       "      <td>5</td>\n",
       "    </tr>\n",
       "    <tr>\n",
       "      <th>4</th>\n",
       "      <td>5</td>\n",
       "      <td>great stay great stay \\twent seahawk game awes...</td>\n",
       "      <td>5</td>\n",
       "    </tr>\n",
       "  </tbody>\n",
       "</table>\n",
       "</div>"
      ],
      "text/plain": [
       "   S.No.                                             Review  Rating\n",
       "0      1  nice hotel expensive parking got good deal sta...       4\n",
       "1      2  ok nothing special charge diamond member hilto...       2\n",
       "2      3  nice rooms not 4* experience hotel monaco seat...       3\n",
       "3      4  unique \\tgreat stay \\twonderful time hotel mon...       5\n",
       "4      5  great stay great stay \\twent seahawk game awes...       5"
      ]
     },
     "execution_count": 64,
     "metadata": {},
     "output_type": "execute_result"
    }
   ],
   "source": [
    "hotel_review_prelim = pd.read_csv('hotel_review_kaggle.csv', encoding = 'ISO-8859-1')\n",
    "print()\n",
    "print(\"Trip Advisor's Online Hotel Reviews:\")\n",
    "hotel_review_prelim.head(5)"
   ]
  },
  {
   "cell_type": "markdown",
   "id": "a541f3c9",
   "metadata": {},
   "source": [
    "<b>Clean Up:"
   ]
  },
  {
   "cell_type": "code",
   "execution_count": 65,
   "id": "abd37bf0",
   "metadata": {},
   "outputs": [
    {
     "name": "stdout",
     "output_type": "stream",
     "text": [
      "Hotel Review DataFrame Shape: (20491, 2)\n",
      "Trip Advisor's Online Hotel Reviews [cleaned]:\n"
     ]
    },
    {
     "data": {
      "text/html": [
       "<div>\n",
       "<style scoped>\n",
       "    .dataframe tbody tr th:only-of-type {\n",
       "        vertical-align: middle;\n",
       "    }\n",
       "\n",
       "    .dataframe tbody tr th {\n",
       "        vertical-align: top;\n",
       "    }\n",
       "\n",
       "    .dataframe thead th {\n",
       "        text-align: right;\n",
       "    }\n",
       "</style>\n",
       "<table border=\"1\" class=\"dataframe\">\n",
       "  <thead>\n",
       "    <tr style=\"text-align: right;\">\n",
       "      <th></th>\n",
       "      <th>review</th>\n",
       "      <th>rating</th>\n",
       "    </tr>\n",
       "  </thead>\n",
       "  <tbody>\n",
       "    <tr>\n",
       "      <th>0</th>\n",
       "      <td>nice hotel expensive parking got good deal sta...</td>\n",
       "      <td>4</td>\n",
       "    </tr>\n",
       "    <tr>\n",
       "      <th>1</th>\n",
       "      <td>ok nothing special charge diamond member hilto...</td>\n",
       "      <td>2</td>\n",
       "    </tr>\n",
       "    <tr>\n",
       "      <th>2</th>\n",
       "      <td>nice rooms not 4* experience hotel monaco seat...</td>\n",
       "      <td>3</td>\n",
       "    </tr>\n",
       "    <tr>\n",
       "      <th>3</th>\n",
       "      <td>unique \\tgreat stay \\twonderful time hotel mon...</td>\n",
       "      <td>5</td>\n",
       "    </tr>\n",
       "    <tr>\n",
       "      <th>4</th>\n",
       "      <td>great stay great stay \\twent seahawk game awes...</td>\n",
       "      <td>5</td>\n",
       "    </tr>\n",
       "    <tr>\n",
       "      <th>...</th>\n",
       "      <td>...</td>\n",
       "      <td>...</td>\n",
       "    </tr>\n",
       "    <tr>\n",
       "      <th>20486</th>\n",
       "      <td>best kept secret 3rd time staying charm \\tnot ...</td>\n",
       "      <td>5</td>\n",
       "    </tr>\n",
       "    <tr>\n",
       "      <th>20487</th>\n",
       "      <td>great location price view hotel great quick pl...</td>\n",
       "      <td>4</td>\n",
       "    </tr>\n",
       "    <tr>\n",
       "      <th>20488</th>\n",
       "      <td>ok just looks nice modern outside \\tdesk staff...</td>\n",
       "      <td>2</td>\n",
       "    </tr>\n",
       "    <tr>\n",
       "      <th>20489</th>\n",
       "      <td>hotel theft ruined vacation hotel opened sept ...</td>\n",
       "      <td>1</td>\n",
       "    </tr>\n",
       "    <tr>\n",
       "      <th>20490</th>\n",
       "      <td>people talking \\tca n't believe excellent rati...</td>\n",
       "      <td>2</td>\n",
       "    </tr>\n",
       "  </tbody>\n",
       "</table>\n",
       "<p>20491 rows × 2 columns</p>\n",
       "</div>"
      ],
      "text/plain": [
       "                                                  review  rating\n",
       "0      nice hotel expensive parking got good deal sta...       4\n",
       "1      ok nothing special charge diamond member hilto...       2\n",
       "2      nice rooms not 4* experience hotel monaco seat...       3\n",
       "3      unique \\tgreat stay \\twonderful time hotel mon...       5\n",
       "4      great stay great stay \\twent seahawk game awes...       5\n",
       "...                                                  ...     ...\n",
       "20486  best kept secret 3rd time staying charm \\tnot ...       5\n",
       "20487  great location price view hotel great quick pl...       4\n",
       "20488  ok just looks nice modern outside \\tdesk staff...       2\n",
       "20489  hotel theft ruined vacation hotel opened sept ...       1\n",
       "20490  people talking \\tca n't believe excellent rati...       2\n",
       "\n",
       "[20491 rows x 2 columns]"
      ]
     },
     "execution_count": 65,
     "metadata": {},
     "output_type": "execute_result"
    }
   ],
   "source": [
    "# remove unnecessary columns\n",
    "hotel_review_prelim = hotel_review_prelim.drop(columns = 'S.No.')\n",
    "hotel_review_prelim.columns = hotel_review_prelim.columns.str.lower()\n",
    "print(\"Hotel Review DataFrame Shape:\", hotel_review_prelim.shape)\n",
    "\n",
    "# remove any NaN's\n",
    "hotel_review_DataFrame = hotel_review_prelim.dropna()\n",
    "print(\"Trip Advisor's Online Hotel Reviews [cleaned]:\")\n",
    "\n",
    "hotel_review_DataFrame"
   ]
  },
  {
   "cell_type": "markdown",
   "id": "e4483a81",
   "metadata": {},
   "source": [
    "<b><u>There are total of 20,491 Hotel Reviews with their rating. <br>Let's inspect the number of occurences of each rating to see the distribution of the dataset. </u></b>"
   ]
  },
  {
   "cell_type": "code",
   "execution_count": 66,
   "id": "0857c90a",
   "metadata": {},
   "outputs": [
    {
     "data": {
      "text/html": [
       "<div>\n",
       "<style scoped>\n",
       "    .dataframe tbody tr th:only-of-type {\n",
       "        vertical-align: middle;\n",
       "    }\n",
       "\n",
       "    .dataframe tbody tr th {\n",
       "        vertical-align: top;\n",
       "    }\n",
       "\n",
       "    .dataframe thead th {\n",
       "        text-align: right;\n",
       "    }\n",
       "</style>\n",
       "<table border=\"1\" class=\"dataframe\">\n",
       "  <thead>\n",
       "    <tr style=\"text-align: right;\">\n",
       "      <th></th>\n",
       "      <th>Total Count</th>\n",
       "    </tr>\n",
       "  </thead>\n",
       "  <tbody>\n",
       "    <tr>\n",
       "      <th>5</th>\n",
       "      <td>9054</td>\n",
       "    </tr>\n",
       "    <tr>\n",
       "      <th>4</th>\n",
       "      <td>6039</td>\n",
       "    </tr>\n",
       "    <tr>\n",
       "      <th>3</th>\n",
       "      <td>2184</td>\n",
       "    </tr>\n",
       "    <tr>\n",
       "      <th>2</th>\n",
       "      <td>1793</td>\n",
       "    </tr>\n",
       "    <tr>\n",
       "      <th>1</th>\n",
       "      <td>1421</td>\n",
       "    </tr>\n",
       "  </tbody>\n",
       "</table>\n",
       "</div>"
      ],
      "text/plain": [
       "   Total Count\n",
       "5         9054\n",
       "4         6039\n",
       "3         2184\n",
       "2         1793\n",
       "1         1421"
      ]
     },
     "metadata": {},
     "output_type": "display_data"
    },
    {
     "name": "stdout",
     "output_type": "stream",
     "text": [
      "Total Count    20491\n",
      "dtype: int64\n"
     ]
    }
   ],
   "source": [
    "rating_DF = pd.DataFrame(hotel_review_df.rating.value_counts())\n",
    "rating_DF.columns = ['Total Count']\n",
    "display(rating_DF)\n",
    "print(rating_DF.sum())"
   ]
  },
  {
   "cell_type": "markdown",
   "id": "cc30ab05",
   "metadata": {},
   "source": [
    "<b><u>Our objective in creating a training dataset is to differentiate between positive and negative reviews. Therefore we have to differentiate between the high reviews and low reviews. <br><br>As seen above, in this specific dataset the Total Count for 5 star rating is much higher than the count for 1 star ratings. In order to create a quality and equal training dataset, we can use 1 star or 2 stars to differentiate between a Positive review and a Negative review.</u></b><br>"
   ]
  },
  {
   "cell_type": "code",
   "execution_count": 72,
   "id": "a47c38a8",
   "metadata": {},
   "outputs": [
    {
     "data": {
      "text/html": [
       "<div>\n",
       "<style scoped>\n",
       "    .dataframe tbody tr th:only-of-type {\n",
       "        vertical-align: middle;\n",
       "    }\n",
       "\n",
       "    .dataframe tbody tr th {\n",
       "        vertical-align: top;\n",
       "    }\n",
       "\n",
       "    .dataframe thead th {\n",
       "        text-align: right;\n",
       "    }\n",
       "</style>\n",
       "<table border=\"1\" class=\"dataframe\">\n",
       "  <thead>\n",
       "    <tr style=\"text-align: right;\">\n",
       "      <th></th>\n",
       "      <th>review</th>\n",
       "      <th>rating</th>\n",
       "    </tr>\n",
       "  </thead>\n",
       "  <tbody>\n",
       "    <tr>\n",
       "      <th>0</th>\n",
       "      <td>ok nothing special charge diamond member hilto...</td>\n",
       "      <td>2</td>\n",
       "    </tr>\n",
       "    <tr>\n",
       "      <th>1</th>\n",
       "      <td>unique \\tgreat stay \\twonderful time hotel mon...</td>\n",
       "      <td>5</td>\n",
       "    </tr>\n",
       "    <tr>\n",
       "      <th>2</th>\n",
       "      <td>great stay great stay \\twent seahawk game awes...</td>\n",
       "      <td>5</td>\n",
       "    </tr>\n",
       "    <tr>\n",
       "      <th>3</th>\n",
       "      <td>love monaco staff husband stayed hotel crazy w...</td>\n",
       "      <td>5</td>\n",
       "    </tr>\n",
       "    <tr>\n",
       "      <th>4</th>\n",
       "      <td>cozy stay rainy city \\thusband spent 7 nights ...</td>\n",
       "      <td>5</td>\n",
       "    </tr>\n",
       "    <tr>\n",
       "      <th>...</th>\n",
       "      <td>...</td>\n",
       "      <td>...</td>\n",
       "    </tr>\n",
       "    <tr>\n",
       "      <th>12263</th>\n",
       "      <td>not impressed unfriendly staff checked asked h...</td>\n",
       "      <td>2</td>\n",
       "    </tr>\n",
       "    <tr>\n",
       "      <th>12264</th>\n",
       "      <td>best kept secret 3rd time staying charm \\tnot ...</td>\n",
       "      <td>5</td>\n",
       "    </tr>\n",
       "    <tr>\n",
       "      <th>12265</th>\n",
       "      <td>ok just looks nice modern outside \\tdesk staff...</td>\n",
       "      <td>2</td>\n",
       "    </tr>\n",
       "    <tr>\n",
       "      <th>12266</th>\n",
       "      <td>hotel theft ruined vacation hotel opened sept ...</td>\n",
       "      <td>1</td>\n",
       "    </tr>\n",
       "    <tr>\n",
       "      <th>12267</th>\n",
       "      <td>people talking \\tca n't believe excellent rati...</td>\n",
       "      <td>2</td>\n",
       "    </tr>\n",
       "  </tbody>\n",
       "</table>\n",
       "<p>12268 rows × 2 columns</p>\n",
       "</div>"
      ],
      "text/plain": [
       "                                                  review  rating\n",
       "0      ok nothing special charge diamond member hilto...       2\n",
       "1      unique \\tgreat stay \\twonderful time hotel mon...       5\n",
       "2      great stay great stay \\twent seahawk game awes...       5\n",
       "3      love monaco staff husband stayed hotel crazy w...       5\n",
       "4      cozy stay rainy city \\thusband spent 7 nights ...       5\n",
       "...                                                  ...     ...\n",
       "12263  not impressed unfriendly staff checked asked h...       2\n",
       "12264  best kept secret 3rd time staying charm \\tnot ...       5\n",
       "12265  ok just looks nice modern outside \\tdesk staff...       2\n",
       "12266  hotel theft ruined vacation hotel opened sept ...       1\n",
       "12267  people talking \\tca n't believe excellent rati...       2\n",
       "\n",
       "[12268 rows x 2 columns]"
      ]
     },
     "execution_count": 72,
     "metadata": {},
     "output_type": "execute_result"
    }
   ],
   "source": [
    "# boolean indexing on rating column\n",
    "hotel_rating_DataFrame = hotel_review_DataFrame[(hotel_review_DataFrame['rating'] == 1) | (hotel_review_DataFrame['rating'] == 2)| (hotel_review_DataFrame['rating'] == 5)]\n",
    "\n",
    "# reset index to be consecutive\n",
    "hotel_rating_DataFrame = hotel_rating_DataFrame.reset_index(drop=True)\n",
    "hotel_rating_DataFrame"
   ]
  },
  {
   "cell_type": "markdown",
   "id": "8d806f8a",
   "metadata": {},
   "source": [
    "<b><u>After filtering out just the positive and negative reviews, there are only 12,268 reviews that fit those two categories. We can change the 2 star ratings to 1 star ratings as they both mean negative review."
   ]
  },
  {
   "cell_type": "code",
   "execution_count": 73,
   "id": "b0abc8e6",
   "metadata": {},
   "outputs": [
    {
     "name": "stdout",
     "output_type": "stream",
     "text": [
      "Unique Rating and its number of occurrences (UPDATED):\n",
      "5    9054\n",
      "1    3214\n",
      "Name: rating, dtype: int64\n"
     ]
    }
   ],
   "source": [
    "change_stars = {2:1}\n",
    "hotel_rating_DataFrame.rating = hotel_rating_DataFrame.rating.replace(change_stars)\n",
    "print(\"Unique Rating and its number of occurrences (UPDATED):\")\n",
    "print(hotel_rating_DataFrame.rating.value_counts())"
   ]
  },
  {
   "cell_type": "markdown",
   "id": "1f723ee4",
   "metadata": {},
   "source": [
    "Now we have the dataset ready to be pre-processed before it is used for training set. <br><u>We can create X and Y datasets to pre-process and get tokens from each text. </u>"
   ]
  },
  {
   "cell_type": "code",
   "execution_count": 76,
   "id": "ae625f1a",
   "metadata": {},
   "outputs": [
    {
     "name": "stdout",
     "output_type": "stream",
     "text": [
      "Shape of X dataset: (12268,)\n",
      "Shape of y dataset: (12268,)\n"
     ]
    }
   ],
   "source": [
    "# X dataset = review column , y = rating column\n",
    "X = hotel_reviews_df.review\n",
    "y = hotel_reviews_df.rating\n",
    "y = hotel_reviews_df.rating\n",
    "print(\"Shape of X dataset:\", X.shape)\n",
    "print(\"Shape of y dataset:\", y.shape)"
   ]
  },
  {
   "cell_type": "markdown",
   "id": "1a5d8af7",
   "metadata": {},
   "source": [
    "<u><b>Preprocess X: tokenize, filter stop words, and stem words, to get tokens from the strings.<br> This allow more accuracy as some texts might be misspelled or have errors. This improves performance of the NLP algorithm.<br>"
   ]
  },
  {
   "cell_type": "code",
   "execution_count": 79,
   "id": "d777df47",
   "metadata": {},
   "outputs": [
    {
     "name": "stdout",
     "output_type": "stream",
     "text": [
      "Processed Hotel Review DataFrame:\n"
     ]
    },
    {
     "data": {
      "text/html": [
       "<div>\n",
       "<style scoped>\n",
       "    .dataframe tbody tr th:only-of-type {\n",
       "        vertical-align: middle;\n",
       "    }\n",
       "\n",
       "    .dataframe tbody tr th {\n",
       "        vertical-align: top;\n",
       "    }\n",
       "\n",
       "    .dataframe thead th {\n",
       "        text-align: right;\n",
       "    }\n",
       "</style>\n",
       "<table border=\"1\" class=\"dataframe\">\n",
       "  <thead>\n",
       "    <tr style=\"text-align: right;\">\n",
       "      <th></th>\n",
       "      <th>0</th>\n",
       "    </tr>\n",
       "  </thead>\n",
       "  <tbody>\n",
       "    <tr>\n",
       "      <th>0</th>\n",
       "      <td>ok noth special charg diamond member hilton de...</td>\n",
       "    </tr>\n",
       "    <tr>\n",
       "      <th>1</th>\n",
       "      <td>uniqu great stay wonder time hotel monaco loca...</td>\n",
       "    </tr>\n",
       "    <tr>\n",
       "      <th>2</th>\n",
       "      <td>great stay great stay went seahawk game awesom...</td>\n",
       "    </tr>\n",
       "    <tr>\n",
       "      <th>3</th>\n",
       "      <td>love monaco staff husband stay hotel crazi wee...</td>\n",
       "    </tr>\n",
       "    <tr>\n",
       "      <th>4</th>\n",
       "      <td>cozi stay raini citi husband spent night monac...</td>\n",
       "    </tr>\n",
       "    <tr>\n",
       "      <th>5</th>\n",
       "      <td>hotel stay hotel monaco cruis room gener decor...</td>\n",
       "    </tr>\n",
       "    <tr>\n",
       "      <th>6</th>\n",
       "      <td>excel stay hotel monaco past w e delight recep...</td>\n",
       "    </tr>\n",
       "  </tbody>\n",
       "</table>\n",
       "</div>"
      ],
      "text/plain": [
       "                                                   0\n",
       "0  ok noth special charg diamond member hilton de...\n",
       "1  uniqu great stay wonder time hotel monaco loca...\n",
       "2  great stay great stay went seahawk game awesom...\n",
       "3  love monaco staff husband stay hotel crazi wee...\n",
       "4  cozi stay raini citi husband spent night monac...\n",
       "5  hotel stay hotel monaco cruis room gener decor...\n",
       "6  excel stay hotel monaco past w e delight recep..."
      ]
     },
     "execution_count": 79,
     "metadata": {},
     "output_type": "execute_result"
    }
   ],
   "source": [
    "# Preprocess X to get tokens from the strings\n",
    "\n",
    "# tokenize words containing letters only : '[a-zA-Z]+' form tokens with only alpha sequences\n",
    "tokenizer = RegexpTokenizer('[a-zA-Z]+') \n",
    "# stop words: a, the, is, are .. etc.\n",
    "stop_words= set(stopwords.words(\"english\"))\n",
    "# root of differently same words\n",
    "stemmer = PorterStemmer()\n",
    "\n",
    "def preprocess(s) :\n",
    "    # tokenizer regex '[a-zA-Z]+' by letters only\n",
    "    w = tokenizer.tokenize(s.lower()) \n",
    "    # after its been tokenized, if w is not in stop_words, make a list of words(that are not stop_words)\n",
    "    w = [word for word in w if word not in stop_words] \n",
    "    # find stem of each token\n",
    "    w = [stemmer.stem(word) for word in w] \n",
    "    # .join() tokens back into a string\n",
    "    return ' '.join(w)         \n",
    "\n",
    "# with each row, preprocess the text string, and store all preprocessed rows in the X_processed list. \n",
    "# make a dataFrame out of that list\n",
    "X_processed = pd.DataFrame([preprocess(X.loc[i]) for i in range(len(X))])\n",
    "print(\"Processed Hotel Review DataFrame:\")\n",
    "X_processed.head(7)   "
   ]
  },
  {
   "cell_type": "code",
   "execution_count": 80,
   "id": "0b6502c4",
   "metadata": {},
   "outputs": [
    {
     "name": "stdout",
     "output_type": "stream",
     "text": [
      "Shape of new X dataset: (12268, 27552)\n"
     ]
    }
   ],
   "source": [
    "# convert X_processed dataset to numbers to use on model\n",
    "# use countVectorizer \n",
    "# CountVectorizer counts the frequency of each word, \n",
    "# and returns a vector of numbers (features) that can be used by a machine learning model\n",
    "\n",
    "from sklearn.feature_extraction.text import CountVectorizer\n",
    "\n",
    "vect = CountVectorizer()\n",
    "# learns from X_processed dataset to get all the words(vocabulary) out \n",
    "vect.fit(X_processed[0])\n",
    "# transforms X_processed[0] words(vocabulary) into vector of numbers which can be used to do data transformation\n",
    "X_vectors = vect.transform(X_processed[0])\n",
    "print('Shape of new X dataset:', X_vectors.shape)"
   ]
  },
  {
   "cell_type": "markdown",
   "id": "30826114",
   "metadata": {},
   "source": [
    "We can now use MultinomalNaive Bayes Model to train and test our training and testing datasets. "
   ]
  },
  {
   "cell_type": "code",
   "execution_count": 83,
   "id": "24cec203",
   "metadata": {},
   "outputs": [
    {
     "name": "stdout",
     "output_type": "stream",
     "text": [
      "Accuracy testing for the MultinomialNB model:\n",
      "Accuracy score: 0.9474327628361858\n",
      "Confusion Matrix: \n",
      " [[  0   0]\n",
      " [  0 589]]\n"
     ]
    }
   ],
   "source": [
    "# create training and testing datasets\n",
    "X_train, X_test, y_train, y_test = train_test_split(X_vectors,y,test_size=0.2)\n",
    "\n",
    "# using MultinomialNB() model\n",
    "classifier = MultinomialNB()\n",
    "# train \n",
    "classifier.fit(X_train, y_train)\n",
    "# test the model\n",
    "y_pred = classifier.predict(X_test)\n",
    "\n",
    "#  find the accuracy of the MultinomialNB model \n",
    "print('Accuracy testing for the MultinomialNB model:')\n",
    "print('Accuracy score:' ,metrics.accuracy_score(y_test, y_pred))\n",
    "print('Confusion Matrix: \\n', metrics.confusion_matrix(y_test, y_pred, labels=[0,1]))"
   ]
  },
  {
   "cell_type": "markdown",
   "id": "3dcccf88",
   "metadata": {},
   "source": [
    " "
   ]
  },
  {
   "cell_type": "markdown",
   "id": "c48b8d3e",
   "metadata": {},
   "source": [
    "The Accuracy Score for the MutlinomalNB Model testing came out excellent. <br>We can test this model by creating our own reviews and testing the reviews on the model. "
   ]
  },
  {
   "cell_type": "code",
   "execution_count": 94,
   "id": "4117f280",
   "metadata": {},
   "outputs": [
    {
     "data": {
      "text/html": [
       "<div>\n",
       "<style scoped>\n",
       "    .dataframe tbody tr th:only-of-type {\n",
       "        vertical-align: middle;\n",
       "    }\n",
       "\n",
       "    .dataframe tbody tr th {\n",
       "        vertical-align: top;\n",
       "    }\n",
       "\n",
       "    .dataframe thead th {\n",
       "        text-align: right;\n",
       "    }\n",
       "</style>\n",
       "<table border=\"1\" class=\"dataframe\">\n",
       "  <thead>\n",
       "    <tr style=\"text-align: right;\">\n",
       "      <th></th>\n",
       "      <th>review</th>\n",
       "    </tr>\n",
       "  </thead>\n",
       "  <tbody>\n",
       "    <tr>\n",
       "      <th>0</th>\n",
       "      <td>We had such a great time at this hotel. The ro...</td>\n",
       "    </tr>\n",
       "    <tr>\n",
       "      <th>1</th>\n",
       "      <td>great time at this hotel!! the room was so cle...</td>\n",
       "    </tr>\n",
       "    <tr>\n",
       "      <th>2</th>\n",
       "      <td>great bed, great sheets. great staff, great fo...</td>\n",
       "    </tr>\n",
       "    <tr>\n",
       "      <th>3</th>\n",
       "      <td>We hated everything here. The check-in time wa...</td>\n",
       "    </tr>\n",
       "    <tr>\n",
       "      <th>4</th>\n",
       "      <td>I loved my weekend at this hotel. The lobby wa...</td>\n",
       "    </tr>\n",
       "    <tr>\n",
       "      <th>5</th>\n",
       "      <td>I would recommended this place to my friends a...</td>\n",
       "    </tr>\n",
       "    <tr>\n",
       "      <th>6</th>\n",
       "      <td>I am never coming back to this hotel.The staff...</td>\n",
       "    </tr>\n",
       "    <tr>\n",
       "      <th>7</th>\n",
       "      <td>The place in Italy seemd okay but we quickly r...</td>\n",
       "    </tr>\n",
       "  </tbody>\n",
       "</table>\n",
       "</div>"
      ],
      "text/plain": [
       "                                              review\n",
       "0  We had such a great time at this hotel. The ro...\n",
       "1  great time at this hotel!! the room was so cle...\n",
       "2  great bed, great sheets. great staff, great fo...\n",
       "3  We hated everything here. The check-in time wa...\n",
       "4  I loved my weekend at this hotel. The lobby wa...\n",
       "5  I would recommended this place to my friends a...\n",
       "6  I am never coming back to this hotel.The staff...\n",
       "7  The place in Italy seemd okay but we quickly r..."
      ]
     },
     "execution_count": 94,
     "metadata": {},
     "output_type": "execute_result"
    }
   ],
   "source": [
    "# create DataFrame with positive and negative reviews\n",
    "\n",
    "review = ['We had such a great time at this hotel. The room was kept very clean every night and the bed was extremely comfy!',\n",
    "           'great time at this hotel!! the room was so clean and everything was comfy!! what a unique time at this place. we would definitely come back!',\n",
    "           'great bed, great sheets. great staff, great food. great views, great people. everything amazing!',\n",
    "           'We hated everything here. The check-in time was late. People next door were loud. The bed was dirty and disgusting!', \n",
    "           'I loved my weekend at this hotel. The lobby was beautiful and the staff were all friend.', \n",
    "           'I would recommended this place to my friends and family. The rooms were clean and the the price was reasonable.',\n",
    "           'I am never coming back to this hotel.The staff were rude and and were not at the front desk half of the time.',\n",
    "           'The place in Italy seemd okay but we quickly realized that they had a pest problem. We spotted mutliple cockroaches in the hallway. Will not be returning']\n",
    "\n",
    "# expected rating\n",
    "rating = [5,5,5,2,5,5,1,1]\n",
    "\n",
    "# create dataframe with the 4 reviews\n",
    "review_test = pd.DataFrame({'review' : review , 'expected rating' : rating})\n",
    "review_test[['review']]\n"
   ]
  },
  {
   "cell_type": "markdown",
   "id": "20710ca8",
   "metadata": {},
   "source": [
    "<b><u>We can see how well the model did and test it with the newly created Review_test DataFrame to show the predicted outcome."
   ]
  },
  {
   "cell_type": "code",
   "execution_count": 95,
   "id": "fada8139",
   "metadata": {},
   "outputs": [
    {
     "data": {
      "text/html": [
       "<div>\n",
       "<style scoped>\n",
       "    .dataframe tbody tr th:only-of-type {\n",
       "        vertical-align: middle;\n",
       "    }\n",
       "\n",
       "    .dataframe tbody tr th {\n",
       "        vertical-align: top;\n",
       "    }\n",
       "\n",
       "    .dataframe thead th {\n",
       "        text-align: right;\n",
       "    }\n",
       "</style>\n",
       "<table border=\"1\" class=\"dataframe\">\n",
       "  <thead>\n",
       "    <tr style=\"text-align: right;\">\n",
       "      <th></th>\n",
       "      <th>review</th>\n",
       "      <th>expected rating</th>\n",
       "      <th>predicted outcome</th>\n",
       "    </tr>\n",
       "  </thead>\n",
       "  <tbody>\n",
       "    <tr>\n",
       "      <th>0</th>\n",
       "      <td>We had such a great time at this hotel. The ro...</td>\n",
       "      <td>5</td>\n",
       "      <td>5</td>\n",
       "    </tr>\n",
       "    <tr>\n",
       "      <th>1</th>\n",
       "      <td>great time at this hotel!! the room was so cle...</td>\n",
       "      <td>5</td>\n",
       "      <td>5</td>\n",
       "    </tr>\n",
       "    <tr>\n",
       "      <th>2</th>\n",
       "      <td>great bed, great sheets. great staff, great fo...</td>\n",
       "      <td>5</td>\n",
       "      <td>5</td>\n",
       "    </tr>\n",
       "    <tr>\n",
       "      <th>3</th>\n",
       "      <td>We hated everything here. The check-in time wa...</td>\n",
       "      <td>2</td>\n",
       "      <td>1</td>\n",
       "    </tr>\n",
       "    <tr>\n",
       "      <th>4</th>\n",
       "      <td>I loved my weekend at this hotel. The lobby wa...</td>\n",
       "      <td>5</td>\n",
       "      <td>5</td>\n",
       "    </tr>\n",
       "    <tr>\n",
       "      <th>5</th>\n",
       "      <td>I would recommended this place to my friends a...</td>\n",
       "      <td>5</td>\n",
       "      <td>5</td>\n",
       "    </tr>\n",
       "    <tr>\n",
       "      <th>6</th>\n",
       "      <td>I am never coming back to this hotel.The staff...</td>\n",
       "      <td>1</td>\n",
       "      <td>1</td>\n",
       "    </tr>\n",
       "    <tr>\n",
       "      <th>7</th>\n",
       "      <td>The place in Italy seemd okay but we quickly r...</td>\n",
       "      <td>1</td>\n",
       "      <td>1</td>\n",
       "    </tr>\n",
       "  </tbody>\n",
       "</table>\n",
       "</div>"
      ],
      "text/plain": [
       "                                              review  expected rating  \\\n",
       "0  We had such a great time at this hotel. The ro...                5   \n",
       "1  great time at this hotel!! the room was so cle...                5   \n",
       "2  great bed, great sheets. great staff, great fo...                5   \n",
       "3  We hated everything here. The check-in time wa...                2   \n",
       "4  I loved my weekend at this hotel. The lobby wa...                5   \n",
       "5  I would recommended this place to my friends a...                5   \n",
       "6  I am never coming back to this hotel.The staff...                1   \n",
       "7  The place in Italy seemd okay but we quickly r...                1   \n",
       "\n",
       "   predicted outcome  \n",
       "0                  5  \n",
       "1                  5  \n",
       "2                  5  \n",
       "3                  1  \n",
       "4                  5  \n",
       "5                  5  \n",
       "6                  1  \n",
       "7                  1  "
      ]
     },
     "execution_count": 95,
     "metadata": {},
     "output_type": "execute_result"
    }
   ],
   "source": [
    "# test model with new review_test dataFrame, show predicted outcome\n",
    "\n",
    "# X_test = testing data: strings from reviews_test['review'] transform to vector of num\n",
    "X_test = vect.transform(review_test['review'])\n",
    "# test  \n",
    "y_pred = classifier.predict(X_test)\n",
    "\n",
    "# create new column in dataFrame of predicted value from testing the model with X_test\n",
    "review_test['predicted outcome'] = y_pred\n",
    "review_test"
   ]
  },
  {
   "cell_type": "markdown",
   "id": "6565ca30",
   "metadata": {},
   "source": [
    "<b><u>The model accurately predicted the positive or negative ratings for all new test reviews. "
   ]
  },
  {
   "cell_type": "markdown",
   "id": "c5de93e2",
   "metadata": {},
   "source": [
    " "
   ]
  },
  {
   "cell_type": "markdown",
   "id": "876d8a9a",
   "metadata": {},
   "source": [
    " "
   ]
  }
 ],
 "metadata": {
  "kernelspec": {
   "display_name": "Python 3 (ipykernel)",
   "language": "python",
   "name": "python3"
  },
  "language_info": {
   "codemirror_mode": {
    "name": "ipython",
    "version": 3
   },
   "file_extension": ".py",
   "mimetype": "text/x-python",
   "name": "python",
   "nbconvert_exporter": "python",
   "pygments_lexer": "ipython3",
   "version": "3.10.9"
  }
 },
 "nbformat": 4,
 "nbformat_minor": 5
}
